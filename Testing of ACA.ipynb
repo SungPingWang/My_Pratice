{
 "cells": [
  {
   "cell_type": "code",
   "execution_count": 19,
   "metadata": {},
   "outputs": [
    {
     "data": {
      "text/plain": [
       "<matplotlib.colorbar.Colorbar at 0x28ce3bdd6d8>"
      ]
     },
     "execution_count": 19,
     "metadata": {},
     "output_type": "execute_result"
    },
    {
     "data": {
      "image/png": "[encoded data removed]",
      "text/plain": [
       "<Figure size 432x288 with 2 Axes>"
      ]
     },
     "metadata": {
      "needs_background": "light"
     },
     "output_type": "display_data"
    }
   ],
   "source": [
    "import numpy as np\n",
    "import numpy.random\n",
    "import matplotlib.pyplot as plt\n",
    "\n",
    "test = np.zeros((10,10), dtype=np.int8)\n",
    "\n",
    "data = np.random.rand(10,10)\n",
    "data = data*100\n",
    "data = np.around(data,0)\n",
    "data = data.astype(int)\n",
    "\n",
    "for time in range(200):\n",
    "    DList = []\n",
    "\n",
    "    for x in range(data.shape[0]):\n",
    "        for y in range(data.shape[1]):\n",
    "            if x<1 or y<1:\n",
    "                if x==0 and y==0:\n",
    "                    DList.append([data[x+1,y], data[x,y+1]])\n",
    "                    #print([data[x+1,y], data[x,y+1]])\n",
    "                elif x==(data.shape[0]-1) and y==0:\n",
    "                    DList.append([data[x-1,y], data[x,y+1]])\n",
    "                    #print([data[x-1,y], data[x,y+1]])\n",
    "                elif x==0 and y==(data.shape[1]-1):\n",
    "                    DList.append([data[x,y-1], data[x+1,y]])\n",
    "                    #print([data[x,y-1], data[x+1,y]])\n",
    "                else:\n",
    "                    if x<(data.shape[0]-1):\n",
    "                        DList.append([data[x-1,y], data[x,y+1], data[x-1,y]])\n",
    "                        #print([data[x-1,y], data[x,y+1], data[x-1,y]])\n",
    "                    else:\n",
    "                        DList.append([data[x,y-1], data[x+1,y], data[x,y+1]])\n",
    "                        #print([data[x,y-1], data[x+1,y], data[x,y+1]])\n",
    "            elif x>(data.shape[0]-2) or y>(data.shape[1]-2):\n",
    "                if x==(data.shape[0]-1) and y==(data.shape[1]-1):\n",
    "                    DList.append([data[x,y-1], data[x-1,y]])\n",
    "                    #print([data[x,y-1], data[x-1,y]])\n",
    "                elif x<(data.shape[0]-1):\n",
    "                    DList.append([data[x-1,y], data[x,y-1], data[x+1, y]])\n",
    "                    #print([data[x-1,y], data[x,y-1], data[x+1, y]])\n",
    "                else:\n",
    "                    DList.append([data[x,y-1], data[x-1,y], data[x,y+1]])\n",
    "                    #print([data[x,y-1], data[x-1,y], data[x,y+1]])           \n",
    "            else:\n",
    "                DList.append([data[x,y-1],data[x,y+1],data[x-1,y],data[x+1,y]])\n",
    "                #print([data[x,y-1],data[x,y+1],data[x-1,y],data[x+1,y]])\n",
    "\n",
    "\n",
    "    cal_List = [[j for j in i if j > 25] for i in DList]\n",
    "\n",
    "    number = []\n",
    "\n",
    "    for k in cal_List:\n",
    "        number.append(len(k))\n",
    "\n",
    "    data_res = data.reshape(-1).tolist()\n",
    "    cal_CA = list(zip(data_res,number))\n",
    "    cal_CA = np.array(cal_CA)\n",
    "    cal_CA = cal_CA.tolist()\n",
    "\n",
    "    Final = []\n",
    "    for i in cal_CA:\n",
    "        if i[1] > 2:\n",
    "            i[0]  ==  25\n",
    "            Final.append(i[0])\n",
    "        else:\n",
    "            Final.append(i[0])\n",
    "\n",
    "    Final = np.array([Final])        \n",
    "    Final = Final.reshape((10,10))\n",
    "    data = Final\n",
    "\n",
    "\n",
    "plt.imshow(data)\n",
    "plt.colorbar()"
   ]
  },
  {
   "cell_type": "code",
   "execution_count": 20,
   "metadata": {},
   "outputs": [
    {
     "data": {
      "text/plain": [
       "array([[ 4, 11, 69, 10, 59, 15, 50, 57,  9, 76],\n",
       "       [ 4, 99, 79,  2, 99,  8, 64, 88, 78, 10],\n",
       "       [89, 21, 66, 22, 65, 94, 13, 27,  3, 40],\n",
       "       [59, 10, 24, 60, 43, 60, 22, 19, 39, 61],\n",
       "       [25, 57, 17, 37, 37, 13, 76, 98, 67, 17],\n",
       "       [79, 28, 40, 33, 90, 69, 45, 25, 97, 51],\n",
       "       [15, 40, 23,  7, 64, 12, 38, 69, 11, 47],\n",
       "       [12, 64, 69, 78, 60, 24, 71, 21,  8, 87],\n",
       "       [37, 61, 44, 33, 57, 63, 16,  8, 87, 98],\n",
       "       [45, 96, 74, 54, 66, 55, 78,  7, 25, 31]])"
      ]
     },
     "execution_count": 20,
     "metadata": {},
     "output_type": "execute_result"
    }
   ],
   "source": [
    "data"
   ]
  },
  {
   "cell_type": "code",
   "execution_count": null,
   "metadata": {},
   "outputs": [],
   "source": []
  }
 ],
 "metadata": {
  "kernelspec": {
   "display_name": "Python 3",
   "language": "python",
   "name": "python3"
  },
  "language_info": {
   "codemirror_mode": {
    "name": "ipython",
    "version": 3
   },
   "file_extension": ".py",
   "mimetype": "text/x-python",
   "name": "python",
   "nbconvert_exporter": "python",
   "pygments_lexer": "ipython3",
   "version": "3.5.6"
  }
 },
 "nbformat": 4,
 "nbformat_minor": 2
}
