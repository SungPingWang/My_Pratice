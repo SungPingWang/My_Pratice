{
 "cells": [
  {
   "cell_type": "code",
   "execution_count": 7,
   "metadata": {},
   "outputs": [],
   "source": [
    "from xml.etree import ElementTree\n",
    "import pandas as pd\n",
    "import os"
   ]
  },
  {
   "cell_type": "code",
   "execution_count": 11,
   "metadata": {},
   "outputs": [],
   "source": [
    "# ...Create the empty dataframe for adding the elements...\n",
    "df_basic = pd.DataFrame(columns=[\"縣市\", \"鄉鎮市區\", \"段代碼\", \"段小段\", \"地號\", \"登記面積\", \"使用分區\",\n",
    "                 \"使用地類別\", \"公告現值\", \"公告地價\", \"所有權人\", \"登記次序\", \"所有權人\",\n",
    "                 \"統一標號\", \"所有權人類別\", \"權利範圍類別\", \"權利範圍持分分母\", \"權利範圍持分分子\",\n",
    "                 \"申報地價\", \"管理者名稱\"])"
   ]
  },
  {
   "cell_type": "code",
   "execution_count": 12,
   "metadata": {},
   "outputs": [
    {
     "data": {
      "text/html": [
       "<div>\n",
       "<style scoped>\n",
       "    .dataframe tbody tr th:only-of-type {\n",
       "        vertical-align: middle;\n",
       "    }\n",
       "\n",
       "    .dataframe tbody tr th {\n",
       "        vertical-align: top;\n",
       "    }\n",
       "\n",
       "    .dataframe thead th {\n",
       "        text-align: right;\n",
       "    }\n",
       "</style>\n",
       "<table border=\"1\" class=\"dataframe\">\n",
       "  <thead>\n",
       "    <tr style=\"text-align: right;\">\n",
       "      <th></th>\n",
       "      <th>縣市</th>\n",
       "      <th>鄉鎮市區</th>\n",
       "      <th>段代碼</th>\n",
       "      <th>段小段</th>\n",
       "      <th>地號</th>\n",
       "      <th>登記面積</th>\n",
       "      <th>使用分區</th>\n",
       "      <th>使用地類別</th>\n",
       "      <th>公告現值</th>\n",
       "      <th>公告地價</th>\n",
       "      <th>所有權人</th>\n",
       "      <th>登記次序</th>\n",
       "      <th>所有權人</th>\n",
       "      <th>統一標號</th>\n",
       "      <th>所有權人類別</th>\n",
       "      <th>權利範圍類別</th>\n",
       "      <th>權利範圍持分分母</th>\n",
       "      <th>權利範圍持分分子</th>\n",
       "      <th>申報地價</th>\n",
       "      <th>管理者名稱</th>\n",
       "    </tr>\n",
       "  </thead>\n",
       "  <tbody>\n",
       "  </tbody>\n",
       "</table>\n",
       "</div>"
      ],
      "text/plain": [
       "Empty DataFrame\n",
       "Columns: [縣市, 鄉鎮市區, 段代碼, 段小段, 地號, 登記面積, 使用分區, 使用地類別, 公告現值, 公告地價, 所有權人, 登記次序, 所有權人, 統一標號, 所有權人類別, 權利範圍類別, 權利範圍持分分母, 權利範圍持分分子, 申報地價, 管理者名稱]\n",
       "Index: []"
      ]
     },
     "execution_count": 12,
     "metadata": {},
     "output_type": "execute_result"
    }
   ],
   "source": [
    "df_basic"
   ]
  },
  {
   "cell_type": "code",
   "execution_count": 27,
   "metadata": {},
   "outputs": [],
   "source": [
    "# ...For loop to find the file path in selecting folder...\n",
    "dirPath = \"D:/ArcPy/J\"\n",
    "My_XML = [f for f in os.listdir(dirPath) if os.path.isfile(os.path.join(dirPath, f))]\n",
    "\n",
    "columns = [\"縣市\", \"鄉鎮市區\", \"段代碼\", \"段小段\", \"地號\", \"登記面積\", \"使用分區\",\n",
    "                 \"使用地類別\", \"公告現值\", \"公告地價\", \"所有權人\", \"登記次序\", \"所有權人\",\n",
    "                 \"統一標號\", \"所有權人類別\", \"權利範圍類別\", \"權利範圍持分分母\", \"權利範圍持分子\",\n",
    "                 \"申報地價\", \"管理者名稱\"]\n",
    "df_basic = pd.DataFrame(columns=columns)\n",
    "\n",
    "for i in range(len(My_XML)):\n",
    "    file = \"D:/ArcPy/J\" + \"/\" + My_XML[i]\n",
    "\n",
    "    \n",
    "# ......Read file in the direction disk......\n",
    "    xmlp = ElementTree.XMLParser(encoding=\"utf-8\")\n",
    "    tree = ElementTree.parse(file, parser=xmlp)\n",
    "    root = tree.getroot()\n",
    "\n",
    "# ......Read all file which in the XML file...... \n",
    "    List_inside = []\n",
    "    for Outside in range(len(root[0])):\n",
    "        for Inside in range(len(root[0][Outside])):       \n",
    "            List_inside.append(root[0][Outside][Inside].text)\n",
    "            if Inside == 10:\n",
    "                for ten in range(len(root[0][Outside][10])):\n",
    "                    List_inside.append(root[0][Outside][10][ten].text)\n",
    "\n",
    "# ......Split the list for each 20 elements......\n",
    "    List_outside = []\n",
    "    for i in range(0,len(List_inside), 20):\n",
    "     #   print(List_inside[i:i+11])\n",
    "        List_outside.append(List_inside[i:i+20])\n",
    "        \n",
    "# ......Show the list in the Datafraame and Create the column name......                \n",
    "    df = pd.DataFrame(List_outside)\n",
    "    df.columns = columns\n",
    "    \n",
    "    df_basic = pd.concat([df_basic, df], axis=0)\n",
    "    \n",
    "# ......Export the Dataframe to csv file \n",
    "df_basic.to_csv(\"D:/ArcPy/Total_CSV/XML_J.csv\", encoding='utf-8')"
   ]
  },
  {
   "cell_type": "code",
   "execution_count": 16,
   "metadata": {},
   "outputs": [],
   "source": [
    "# https://docs.python.org/2/library/xml.etree.elementtree.html\n",
    "# https://pycoders-weekly-chinese.readthedocs.io/en/latest/issue6/processing-xml-in-python-with-element-tree.html\n",
    "# https://docs.python.org/3/library/xml.etree.elementtree.html\n",
    "# http://blog.appliedinformaticsinc.com/how-to-parse-and-convert-xml-to-csv-using-python/\n",
    "# https://pbpython.com/pandas-list-dict.html\n",
    "# https://www.delftstack.com/zh-tw/howto/python/how-to-get-all-the-files-of-a-directory/\n",
    "# https://blog.csdn.net/toshibahuai/article/details/79034829"
   ]
  },
  {
   "cell_type": "code",
   "execution_count": null,
   "metadata": {},
   "outputs": [],
   "source": []
  }
 ],
 "metadata": {
  "kernelspec": {
   "display_name": "Python 3",
   "language": "python",
   "name": "python3"
  },
  "language_info": {
   "codemirror_mode": {
    "name": "ipython",
    "version": 3
   },
   "file_extension": ".py",
   "mimetype": "text/x-python",
   "name": "python",
   "nbconvert_exporter": "python",
   "pygments_lexer": "ipython3",
   "version": "3.6.7"
  }
 },
 "nbformat": 4,
 "nbformat_minor": 2
}
